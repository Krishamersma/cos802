{
 "cells": [
  {
   "cell_type": "code",
   "execution_count": 6,
   "metadata": {},
   "outputs": [
    {
     "data": {
      "text/plain": [
       "57"
      ]
     },
     "execution_count": 6,
     "metadata": {},
     "output_type": "execute_result"
    }
   ],
   "source": [
    "newwordList = ['mr.', 'nel', 'states', 'that', 'seuss', \"'\", 'carefully-constructed', 'absurdist', 'tales', 'encourage', 'children', 'to', 'challenge', 'the', 'statusquo', 'by', 'gently', 'skewering', 'the', 'grown-up', 'world', ';', 'elsewhere', ',', 'he', 'uses', 'charts', 'to', 'show', 'how', 'seuss', 'effectively', 'used', 'meter', 'and', 'rhyme', 'to', 'complement', 'his', 'intentionally', 'ridiculous', 'plots', 'and', 'create', 'masterful', 'stories', 'that', 'have', 'stood', 'up', 'well', 'to', 'the', 'test', 'of', 'time.mr', '.']\n",
    "\n",
    "finaltxt = \"mr. nel states that seuss ' carefully-constructed absurdist tales encourage children to challenge the statusquo by gently skewering the grown-up world ; elsewhere , he uses charts to show how seuss effectively used meter and rhyme to complement his intentionally ridiculous plots and create masterful stories that have stood up well to the test of time.mr .\"\n",
    "len(finaltxt.split(' '))"
   ]
  },
  {
   "cell_type": "code",
   "execution_count": 3,
   "metadata": {},
   "outputs": [
    {
     "data": {
      "text/plain": [
       "57"
      ]
     },
     "execution_count": 3,
     "metadata": {},
     "output_type": "execute_result"
    }
   ],
   "source": [
    "len(list)"
   ]
  },
  {
   "cell_type": "code",
   "execution_count": 9,
   "metadata": {},
   "outputs": [
    {
     "name": "stdout",
     "output_type": "stream",
     "text": [
      "0 mr.\n",
      "1 nel\n",
      "2 states\n",
      "3 that\n",
      "4 seuss\n",
      "5 '\n",
      "6 carefully-constructed\n",
      "7 absurdist\n",
      "8 tales\n",
      "9 encourage\n",
      "10 children\n",
      "11 to\n",
      "12 challenge\n",
      "13 the\n",
      "14 statusquo\n",
      "15 by\n",
      "16 gently\n",
      "17 skewering\n",
      "18 the\n",
      "19 grown-up\n",
      "20 world\n",
      "21 ;\n",
      "22 elsewhere\n",
      "23 ,\n",
      "24 he\n",
      "25 uses\n",
      "26 charts\n",
      "27 to\n",
      "28 show\n",
      "29 how\n",
      "30 seuss\n",
      "31 effectively\n",
      "32 used\n",
      "33 meter\n",
      "34 and\n",
      "35 rhyme\n",
      "36 to\n",
      "37 complement\n",
      "38 his\n",
      "39 intentionally\n",
      "40 ridiculous\n",
      "41 plots\n",
      "42 and\n",
      "43 create\n",
      "44 masterful\n",
      "45 stories\n",
      "46 that\n",
      "47 have\n",
      "48 stood\n",
      "49 up\n",
      "50 well\n",
      "51 to\n",
      "52 the\n",
      "53 test\n",
      "54 of\n",
      "55 time.mr\n",
      "56 .\n"
     ]
    }
   ],
   "source": [
    "cnt = 0\n",
    "for item in finaltxt.split(' '):\n",
    "    print(cnt, item)\n",
    "    cnt += 1"
   ]
  },
  {
   "cell_type": "code",
   "execution_count": 12,
   "metadata": {},
   "outputs": [
    {
     "name": "stdout",
     "output_type": "stream",
     "text": [
      "yes\n"
     ]
    }
   ],
   "source": [
    "string = ' '\n",
    "\n",
    "if string:\n",
    "    print('yes')\n",
    "else:\n",
    "    print('no')"
   ]
  }
 ],
 "metadata": {
  "kernelspec": {
   "display_name": "Python 3.10.7 64-bit",
   "language": "python",
   "name": "python3"
  },
  "language_info": {
   "codemirror_mode": {
    "name": "ipython",
    "version": 3
   },
   "file_extension": ".py",
   "mimetype": "text/x-python",
   "name": "python",
   "nbconvert_exporter": "python",
   "pygments_lexer": "ipython3",
   "version": "3.10.7"
  },
  "orig_nbformat": 4,
  "vscode": {
   "interpreter": {
    "hash": "8afe3bbb772decd82072f87143d0eb4ba7cd317c875311c60d967c3986be5a5a"
   }
  }
 },
 "nbformat": 4,
 "nbformat_minor": 2
}
