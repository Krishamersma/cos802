{
 "cells": [
  {
   "cell_type": "code",
   "execution_count": 5,
   "metadata": {},
   "outputs": [
    {
     "data": {
      "text/plain": [
       "57"
      ]
     },
     "execution_count": 5,
     "metadata": {},
     "output_type": "execute_result"
    }
   ],
   "source": [
    "newwordList = ['mr.', 'nel', 'states', 'that', 'seuss', \"'\", 'carefully-constructed', 'absurdist', 'tales', 'encourage', 'children', 'to', 'challenge', 'the', 'statusquo', 'by', 'gently', 'skewering', 'the', 'grown-up', 'world', ';', 'elsewhere', ',', 'he', 'uses', 'charts', 'to', 'show', 'how', 'seuss', 'effectively', 'used', 'meter', 'and', 'rhyme', 'to', 'complement', 'his', 'intentionally', 'ridiculous', 'plots', 'and', 'create', 'masterful', 'stories', 'that', 'have', 'stood', 'up', 'well', 'to', 'the', 'test', 'of', 'time.mr', '.']\n",
    "\n",
    "finaltxt = \"mr. nel states that seuss ' carefully-constructed absurdist tales encourage children to challenge the statusquo by gently skewering the grown-up world ; elsewhere , he uses charts to show how seuss effectively used meter and rhyme to complement his intentionally ridiculous plots and create masterful stories that have stood up well to the test of time.mr .\"\n",
    "len(finaltxt.split(' '))"
   ]
  },
  {
   "cell_type": "code",
   "execution_count": 3,
   "metadata": {},
   "outputs": [
    {
     "data": {
      "text/plain": [
       "57"
      ]
     },
     "execution_count": 3,
     "metadata": {},
     "output_type": "execute_result"
    }
   ],
   "source": [
    "len(list)"
   ]
  }
 ],
 "metadata": {
  "kernelspec": {
   "display_name": "Python 3.10.7 64-bit",
   "language": "python",
   "name": "python3"
  },
  "language_info": {
   "codemirror_mode": {
    "name": "ipython",
    "version": 3
   },
   "file_extension": ".py",
   "mimetype": "text/x-python",
   "name": "python",
   "nbconvert_exporter": "python",
   "pygments_lexer": "ipython3",
   "version": "3.10.7"
  },
  "orig_nbformat": 4,
  "vscode": {
   "interpreter": {
    "hash": "8afe3bbb772decd82072f87143d0eb4ba7cd317c875311c60d967c3986be5a5a"
   }
  }
 },
 "nbformat": 4,
 "nbformat_minor": 2
}
